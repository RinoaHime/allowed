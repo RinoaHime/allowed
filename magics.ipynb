{
 "cells": [
  {
   "attachments": {},
   "cell_type": "markdown",
   "metadata": {},
   "source": [
    "# Checking a notebook\n",
    "This is a test file for the [`allowed`](https://github.com/dsa-ou/allowed) checker.\n",
    "The tool can be run\n",
    "\n",
    "- directly: `python allowed.py magics.ipynb`\n",
    "- via nbqa: `nbqa allowed magics.ipynb`\n",
    "\n",
    "Both ways of running the tool ignore all Markdown cells.\n",
    "\n",
    "Running the tool directly ignores the next cell because it has an IPython 'magic' (command `%timeit`).\n",
    "Running the tool via `nbqa` ignores only the magic and checks the rest of the cell."
   ]
  },
  {
   "cell_type": "code",
   "execution_count": null,
   "metadata": {},
   "outputs": [],
   "source": [
    "import math\n",
    "%timeit 42 * 42\n",
    "area_of_circle = lambda r : math.pi * r ** 2 "
   ]
  },
  {
   "attachments": {},
   "cell_type": "markdown",
   "metadata": {},
   "source": [
    "Both ways of running the tool ignore the next cell because it \n",
    "isn't valid Python (syntax error in the first line)."
   ]
  },
  {
   "cell_type": "code",
   "execution_count": null,
   "metadata": {},
   "outputs": [],
   "source": [
    "def reversed_list(values: list) -> list # missing : syntax error\n",
    "    \"\"\"Return the same items as values, in inverse order.\n",
    "\n",
    "    Postconditions: the output is\n",
    "    [values[-1], values [-2], ..., values[1], values[0]]\n",
    "    \"\"\"\n",
    "    reversed = []\n",
    "    for item in values:\n",
    "        reversed.insert(0, item)\n",
    "    return reversed\n",
    "\n",
    "x = 42\n",
    "y = 24 \n",
    "message = f\"The variable x holds value {x}, the variable y holds value {y}\""
   ]
  },
  {
   "attachments": {},
   "cell_type": "markdown",
   "metadata": {},
   "source": [
    "Again, running the tool directly ignores the next cell because \n",
    "it isn't valid Python (there are IPython magics), whereas running it\n",
    "via `nbqa` does check the cell by ignoring just the magics."
   ]
  },
  {
   "cell_type": "code",
   "execution_count": null,
   "metadata": {},
   "outputs": [],
   "source": [
    "from matplotlib.pyplot import plot,xlabel,ylabel,title,legend,show\n",
    "%matplotlib inline\n",
    "\n",
    "n_values = []               # the values for n\n",
    "linear_times = []           # normal factorisation\n",
    "symmetric_times = []        # symmetric factorisation\n",
    "root_times = []             # root factorisation\n",
    "for n in range(200):\n",
    "    n_values.append(n)\n",
    "\n",
    "    run_times = %timeit -q -o -r 3 -n 100 factorisation(n)\n",
    "    linear_times.append(run_times.best * 1e6)\n",
    "\n",
    "    run_times = %timeit -q -o -r 3 -n 100 symmetric_factorisation(n)\n",
    "    symmetric_times.append(run_times.best * 1e6)\n",
    "\n",
    "    run_times = %timeit -q -o -r 3 -n 100 root_factorisation(n)\n",
    "    root_times.append(run_times.best * 1e6)\n",
    "\n",
    "plot(n_values, linear_times, 'r-', label='search 1 to n')\n",
    "plot(n_values, symmetric_times, 'k.', label='add f and n/f')\n",
    "plot(n_values, root_times,'b-', label='search 1 to $\\sqrt{n}$')\n",
    "title('Factorisation')\n",
    "xlabel('n')\n",
    "ylabel('Run-time (µs)')\n",
    "legend()\n",
    "show()"
   ]
  },
  {
   "attachments": {},
   "cell_type": "markdown",
   "metadata": {},
   "source": [
    "The next cell is checked by both ways of running the tool."
   ]
  },
  {
   "cell_type": "code",
   "execution_count": null,
   "metadata": {},
   "outputs": [],
   "source": [
    "[x % 2 for x in range(10)]"
   ]
  }
 ],
 "metadata": {
  "kernelspec": {
   "display_name": "Python 3 (ipykernel)",
   "language": "python",
   "name": "python3"
  },
  "language_info": {
   "codemirror_mode": {
    "name": "ipython",
    "version": 3
   },
   "file_extension": ".py",
   "mimetype": "text/x-python",
   "name": "python",
   "nbconvert_exporter": "python",
   "pygments_lexer": "ipython3",
   "version": "3.10.10"
  },
  "vscode": {
   "interpreter": {
    "hash": "8cee12ad2512558cdc79ba90299b13d726dd4d1e1af5c2af4af5b58f6d7a985d"
   }
  }
 },
 "nbformat": 4,
 "nbformat_minor": 2
}
