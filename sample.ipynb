{
 "cells": [
  {
   "attachments": {},
   "cell_type": "markdown",
   "metadata": {},
   "source": [
    "# Test notebook\n",
    "This is a test file for the [`allowed`](https://github.com/dsa-ou/allowed) checker. \n",
    "\n",
    "Markdown cells are _not_ checked, even if they have some code:\n",
    "```py\n",
    "x = (5, # syntax error\n",
    "```\n",
    "Code cells are checked, unless they have a syntax error.\n",
    "The checker reports an error in line 2 of the next cell and doesn't check it."
   ]
  },
  {
   "cell_type": "code",
   "execution_count": null,
   "metadata": {},
   "outputs": [],
   "source": [
    "[x % 2 for x in range(10)]\n",
    "x = (5, # missing )"
   ]
  },
  {
   "attachments": {},
   "cell_type": "markdown",
   "metadata": {},
   "source": [
    "The next cell is checked because it's valid Python (no syntax error)."
   ]
  },
  {
   "cell_type": "code",
   "execution_count": null,
   "metadata": {},
   "outputs": [],
   "source": [
    "\"\"\"Sample code to test the checker.\"\"\"\n",
    "\n",
    "import math\n",
    "import types\n",
    "from random import choice, shuffle\n",
    "\n",
    "\n",
    "def is_prime(n: int) -> bool:\n",
    "    \"\"\"Check if a positive integer is prime.\"\"\"\n",
    "    assert n > 0\n",
    "    if n == 1:\n",
    "        return False\n",
    "    for factor in range(2, n):\n",
    "        if n % factor == 0:\n",
    "            decision = False\n",
    "            break\n",
    "        elif factor > math.sqrt(n):\n",
    "            decision = True\n",
    "            break\n",
    "    else:  # no break\n",
    "        decision = True\n",
    "    return decision\n",
    "\n",
    "\n",
    "for n in range(10):\n",
    "    try:\n",
    "        print(n, \"prime\" if is_prime(n) else \"not prime\")\n",
    "    except AssertionError:\n",
    "        print(n, \"not positive\")"
   ]
  },
  {
   "attachments": {},
   "cell_type": "markdown",
   "metadata": {},
   "source": [
    "The next cell has an IPython line 'magic' (command `%timeit`).\n",
    "If IPython is installed, the magic is ignored,\n",
    "otherwise it's reported as a syntax error and the cell isn't checked."
   ]
  },
  {
   "cell_type": "code",
   "execution_count": null,
   "metadata": {},
   "outputs": [],
   "source": [
    "def odd_numbers(n: int) -> list[int]:\n",
    "    \"\"\"Return a list of the first n odd numbers.\"\"\"\n",
    "    result = []\n",
    "    value = 0\n",
    "    while True:\n",
    "        if len(result) == n:\n",
    "            break\n",
    "        value += 1\n",
    "        if value % 2 == 1:\n",
    "            result.append(value)\n",
    "        else:\n",
    "            continue\n",
    "    else:  # no break\n",
    "        pass  # infinite loop finished\n",
    "    return result\n",
    "\n",
    "%timeit odd_numbers(1000)"
   ]
  },
  {
   "attachments": {},
   "cell_type": "markdown",
   "metadata": {},
   "source": [
    "The next cell has a cell magic (starting with `%%`), and \n",
    "a line magic within an assignment. Again, both are ignored \n",
    "if IPython is installed, otherwise the cell is considered \n",
    "invalid Python and not checked. \n"
   ]
  },
  {
   "cell_type": "code",
   "execution_count": null,
   "metadata": {},
   "outputs": [],
   "source": [
    "%%capture output\n",
    "\n",
    "FIRST = 5\n",
    "odd = odd_numbers(FIRST)\n",
    "run_time = %timeit -q -o -r 3 -n 100 odd_numbers(FIRST)\n",
    "print(f\"first {FIRST} odd numbers: {odd}\")\n",
    "if odd.count(2) == 1:\n",
    "    print(\"2 is considered odd: that's odd!\")\n",
    "print(\"last odd generated:\", odd.pop())\n",
    "\n",
    "print(\"2^6 =\", 1 << 6)\n",
    "print(\"Euler number e =\", math.e)\n",
    "if type(odd_numbers) == types.FunctionType:\n",
    "    print(\"odd_numbers is a function\")\n",
    "\n",
    "\n",
    "x = 5\n",
    "x = \"five\""
   ]
  }
 ],
 "metadata": {
  "kernelspec": {
   "display_name": "env",
   "language": "python",
   "name": "python3"
  },
  "language_info": {
   "codemirror_mode": {
    "name": "ipython",
    "version": 3
   },
   "file_extension": ".py",
   "mimetype": "text/x-python",
   "name": "python",
   "nbconvert_exporter": "python",
   "pygments_lexer": "ipython3",
   "version": "3.10.10"
  },
  "orig_nbformat": 4,
  "vscode": {
   "interpreter": {
    "hash": "8cee12ad2512558cdc79ba90299b13d726dd4d1e1af5c2af4af5b58f6d7a985d"
   }
  }
 },
 "nbformat": 4,
 "nbformat_minor": 2
}
